{
 "cells": [
  {
   "cell_type": "markdown",
   "id": "c439e116",
   "metadata": {},
   "source": [
    "# Question 1 Consider the following Python module:"
   ]
  },
  {
   "cell_type": "code",
   "execution_count": 1,
   "id": "b0fef3de",
   "metadata": {},
   "outputs": [],
   "source": [
    "a = 0\n",
    "def b():\n",
    "    global a\n",
    "    a = c(a)\n",
    "def c(a):\n",
    "    return a + 2    "
   ]
  },
  {
   "cell_type": "code",
   "execution_count": 2,
   "id": "0a5ecefe",
   "metadata": {},
   "outputs": [],
   "source": [
    "b()"
   ]
  },
  {
   "cell_type": "code",
   "execution_count": 3,
   "id": "21379a9b",
   "metadata": {},
   "outputs": [
    {
     "data": {
      "text/plain": [
       "2"
      ]
     },
     "execution_count": 3,
     "metadata": {},
     "output_type": "execute_result"
    }
   ],
   "source": [
    "a"
   ]
  },
  {
   "cell_type": "markdown",
   "id": "74295a36",
   "metadata": {},
   "source": [
    "**Explanation**"
   ]
  },
  {
   "cell_type": "markdown",
   "id": "8abbbb8a",
   "metadata": {},
   "source": [
    "**When the last expression a is evaluated after executing the code b(), it will display the value 2.**\n",
    "\n",
    "**Here's a step-by-step explanation of what happens in each statement when the code is executed:**\n",
    "\n",
    "1. a = 0 - this statement assigns the integer value 0 to the variable a.\n",
    "2. def b(): - this statement starts the definition of a function named b.\n",
    "3. global a - this statement declares that the a variable inside the function b refers to the global variable a defined outside the function.\n",
    "4. a = c(a) - this statement calls the function c with the current value of a as an argument, then assigns the result of the function call to a.\n",
    "5. def c(a): - this statement starts the definition of a function named c that takes one argument a.\n",
    "6. return a + 2 - this statement returns the value of a plus 2.\n",
    "7. b() - this statement calls the function b, which calls c with the value of a (which is 0), adds 2 to it, and assigns the    \n",
    "   result (2) back to a.\n",
    "8. a - this statement evaluates the value of the variable a, which is now 2.\n",
    " So, when the last expression a is evaluated after calling the function b(), it displays the value 2."
   ]
  },
  {
   "cell_type": "markdown",
   "id": "9868f824",
   "metadata": {},
   "source": [
    "# Question 2 - Function fileLength(), given to you, takes the name of a file as input and returns the length of the file:\n",
    "\n"
   ]
  },
  {
   "cell_type": "code",
   "execution_count": 8,
   "id": "e366aa58",
   "metadata": {},
   "outputs": [],
   "source": [
    "def fileLength(filename):\n",
    "    try:\n",
    "        with open(filename, 'r') as file:\n",
    "            contents = file.read()\n",
    "            length = len(contents)\n",
    "            return length\n",
    "    except FileNotFoundError:\n",
    "        print(f\"Error2:  No such file or directory {filename}.\")"
   ]
  },
  {
   "cell_type": "code",
   "execution_count": 18,
   "id": "6a3e1057",
   "metadata": {},
   "outputs": [
    {
     "data": {
      "text/plain": [
       "358"
      ]
     },
     "execution_count": 18,
     "metadata": {},
     "output_type": "execute_result"
    }
   ],
   "source": [
    "fileLength('midterm.py')"
   ]
  },
  {
   "cell_type": "code",
   "execution_count": 12,
   "id": "7618d91f",
   "metadata": {},
   "outputs": [
    {
     "name": "stdout",
     "output_type": "stream",
     "text": [
      "Error2:  No such file or directory idterm.py.\n"
     ]
    }
   ],
   "source": [
    "fileLength('idterm.py')"
   ]
  },
  {
   "cell_type": "code",
   "execution_count": null,
   "id": "51c0419c",
   "metadata": {},
   "outputs": [],
   "source": []
  },
  {
   "cell_type": "markdown",
   "id": "87eb80f7",
   "metadata": {},
   "source": [
    "# Question 3 Write a class named Marsupial that can be used as shown below:"
   ]
  },
  {
   "cell_type": "code",
   "execution_count": 19,
   "id": "2e4b6c8a",
   "metadata": {},
   "outputs": [],
   "source": [
    "class Marsupial:\n",
    "    def __init__(self):\n",
    "        self.pouch = []\n",
    "    \n",
    "    def put_in_pouch(self, item):\n",
    "        self.pouch.append(item)\n",
    "    \n",
    "    def pouch_contents(self):\n",
    "        return self.pouch\n",
    "\n",
    "\n",
    "class Kangaroo(Marsupial):\n",
    "    def __init__(self, x, y):\n",
    "        super().__init__()\n",
    "        self.x = x\n",
    "        self.y = y\n",
    "    \n",
    "    def jump(self, dx, dy):\n",
    "        self.x += dx\n",
    "        self.y += dy\n",
    "    \n",
    "    def __str__(self):\n",
    "        return f\"I am a Kangaroo located at coordinates ({self.x},{self.y})\""
   ]
  },
  {
   "cell_type": "code",
   "execution_count": 20,
   "id": "85db7856",
   "metadata": {},
   "outputs": [
    {
     "data": {
      "text/plain": [
       "['doll', 'firetruck', 'kitten']"
      ]
     },
     "execution_count": 20,
     "metadata": {},
     "output_type": "execute_result"
    }
   ],
   "source": [
    "m = Marsupial()\n",
    "m.put_in_pouch('doll')\n",
    "m.put_in_pouch('firetruck')\n",
    "m.put_in_pouch('kitten')\n",
    "m.pouch_contents()"
   ]
  },
  {
   "cell_type": "code",
   "execution_count": 21,
   "id": "d2e647df",
   "metadata": {},
   "outputs": [
    {
     "name": "stdout",
     "output_type": "stream",
     "text": [
      "I am a Kangaroo located at coordinates (0,0)\n"
     ]
    }
   ],
   "source": [
    "k = Kangaroo(0,0)\n",
    "print(k)"
   ]
  },
  {
   "cell_type": "code",
   "execution_count": 22,
   "id": "22816739",
   "metadata": {},
   "outputs": [
    {
     "data": {
      "text/plain": [
       "['doll', 'firetruck', 'kitten']"
      ]
     },
     "execution_count": 22,
     "metadata": {},
     "output_type": "execute_result"
    }
   ],
   "source": [
    "k.put_in_pouch('doll')\n",
    "k.put_in_pouch('firetruck')\n",
    "k.put_in_pouch('kitten')\n",
    "k.pouch_contents()"
   ]
  },
  {
   "cell_type": "code",
   "execution_count": 23,
   "id": "d02a8e22",
   "metadata": {},
   "outputs": [
    {
     "name": "stdout",
     "output_type": "stream",
     "text": [
      "I am a Kangaroo located at coordinates (3,0)\n"
     ]
    }
   ],
   "source": [
    "k.jump(1,0)\n",
    "k.jump(1,0)\n",
    "k.jump(1,0)\n",
    "print(k)"
   ]
  },
  {
   "cell_type": "code",
   "execution_count": null,
   "id": "4b285ef8",
   "metadata": {},
   "outputs": [],
   "source": []
  },
  {
   "cell_type": "markdown",
   "id": "1bf9f62b",
   "metadata": {},
   "source": [
    "# Question 4"
   ]
  },
  {
   "cell_type": "markdown",
   "id": "e72bca4d",
   "metadata": {},
   "source": [
    "**Write function collatz() that takes a positive integer x as input and prints the\n",
    "Collatz sequence starting at x. A Collatz sequence is obtained by repeatedly applying\n",
    "this rule to the previous number x in the sequence:\n",
    "x = {\n",
    "𝑥/2 𝑖𝑓 𝑥 𝑖𝑠 𝑒𝑣𝑒𝑛\n",
    "3𝑥 + 1 𝑖𝑓 𝑥 𝑖𝑠 𝑜𝑑𝑑\n",
    "Your function should stop when the sequence gets to number 1. Your\n",
    "implementation must be recursive, without any loops.**"
   ]
  },
  {
   "cell_type": "code",
   "execution_count": 24,
   "id": "6d8a72ad",
   "metadata": {},
   "outputs": [],
   "source": [
    "def collatz(x):\n",
    "    print(x)\n",
    "    if x == 1:\n",
    "        return\n",
    "    elif x % 2 == 0:\n",
    "        collatz(x//2)\n",
    "    else:\n",
    "        collatz(3*x + 1)"
   ]
  },
  {
   "cell_type": "code",
   "execution_count": 25,
   "id": "84139932",
   "metadata": {},
   "outputs": [
    {
     "name": "stdout",
     "output_type": "stream",
     "text": [
      "1\n"
     ]
    }
   ],
   "source": [
    "collatz(1)"
   ]
  },
  {
   "cell_type": "code",
   "execution_count": 26,
   "id": "8a7b4dca",
   "metadata": {},
   "outputs": [
    {
     "name": "stdout",
     "output_type": "stream",
     "text": [
      "10\n",
      "5\n",
      "16\n",
      "8\n",
      "4\n",
      "2\n",
      "1\n"
     ]
    }
   ],
   "source": [
    "collatz(10)"
   ]
  },
  {
   "cell_type": "code",
   "execution_count": null,
   "id": "afe290d4",
   "metadata": {},
   "outputs": [],
   "source": []
  },
  {
   "cell_type": "markdown",
   "id": "73f60447",
   "metadata": {},
   "source": [
    "# Question 5"
   ]
  },
  {
   "cell_type": "markdown",
   "id": "0790f0c8",
   "metadata": {},
   "source": [
    "**Write a recursive method binary() that takes a non-negative\n",
    "integer n and prints the binary representation of integer n.**"
   ]
  },
  {
   "cell_type": "code",
   "execution_count": 28,
   "id": "5453cc81",
   "metadata": {},
   "outputs": [],
   "source": [
    "def binary(n):\n",
    "    if n > 1:\n",
    "        binary(n // 2)\n",
    "    print(n % 2, end='')"
   ]
  },
  {
   "cell_type": "code",
   "execution_count": 29,
   "id": "3289c45b",
   "metadata": {},
   "outputs": [
    {
     "name": "stdout",
     "output_type": "stream",
     "text": [
      "0"
     ]
    }
   ],
   "source": [
    "binary(0)"
   ]
  },
  {
   "cell_type": "code",
   "execution_count": 30,
   "id": "8eceec10",
   "metadata": {},
   "outputs": [
    {
     "name": "stdout",
     "output_type": "stream",
     "text": [
      "1"
     ]
    }
   ],
   "source": [
    "binary(1)"
   ]
  },
  {
   "cell_type": "code",
   "execution_count": 31,
   "id": "c91db4ae",
   "metadata": {},
   "outputs": [
    {
     "name": "stdout",
     "output_type": "stream",
     "text": [
      "11"
     ]
    }
   ],
   "source": [
    "binary(3)"
   ]
  },
  {
   "cell_type": "code",
   "execution_count": 32,
   "id": "9a5ccd09",
   "metadata": {},
   "outputs": [
    {
     "name": "stdout",
     "output_type": "stream",
     "text": [
      "1001"
     ]
    }
   ],
   "source": [
    "binary(9)"
   ]
  },
  {
   "cell_type": "markdown",
   "id": "5ccba70f",
   "metadata": {},
   "source": [
    "# Question 6"
   ]
  },
  {
   "cell_type": "markdown",
   "id": "1a2b740c",
   "metadata": {},
   "source": [
    "**Implement a class named HeadingParser that can be used to parse an HTML\n",
    "document, and retrieve and print all the headings in the document. You should\n",
    "implement your class as a subclass of HTMLParser, defined in Standard Library\n",
    "module html.parser. When fed a string containing HTML code, your class should\n",
    "print the headings, one per line and in the order in which they appear in the\n",
    "document. Each heading should be indented as follows: an h1 heading should have indentation 0, and h2 heading should have indentation 1, etc. Test your\n",
    "implementation using w3c.html.**"
   ]
  },
  {
   "cell_type": "code",
   "execution_count": 106,
   "id": "f58a23d0",
   "metadata": {},
   "outputs": [],
   "source": [
    "from html.parser import HTMLParser\n",
    "\n",
    "class HeadingParser(HTMLParser):\n",
    "    def __init__(self):\n",
    "        super().__init__()\n",
    "        self.indent = 0\n",
    "        self.in_title = False\n",
    "    \n",
    "    def handle_starttag(self, tag, attrs):\n",
    "        if tag == 'title':\n",
    "            self.in_title = True\n",
    "        elif tag.startswith('h') and not self.in_title:\n",
    "            try:\n",
    "                self.indent = int(tag[1:]) - 1\n",
    "            except ValueError:\n",
    "                pass\n",
    "    \n",
    "    def handle_endtag(self, tag):\n",
    "        if tag == 'title':\n",
    "            self.in_title = False\n",
    "        elif tag.startswith('h') and not self.in_title:\n",
    "            self.indent = 0\n",
    "    \n",
    "    def handle_data(self, data):\n",
    "        if self.in_title:\n",
    "            return\n",
    "        if self.indent > 0:\n",
    "            print(' ' * (self.indent * 2), end='')\n",
    "        print(data.strip())"
   ]
  },
  {
   "cell_type": "code",
   "execution_count": 107,
   "id": "2d786ad6",
   "metadata": {},
   "outputs": [
    {
     "name": "stdout",
     "output_type": "stream",
     "text": [
      "\n",
      "\n",
      "\n",
      "\n",
      "\n",
      "\n",
      "\n",
      "\n",
      "\n",
      "\n",
      "\n",
      "W3C Mission\n",
      "\n",
      "  Principles\n",
      "\n",
      "\n"
     ]
    }
   ],
   "source": [
    "infile = open('w3c.html')\n",
    "content = infile.read()\n",
    "infile.close()\n",
    "hp = HeadingParser()\n",
    "hp.feed(content)"
   ]
  },
  {
   "cell_type": "markdown",
   "id": "9750f46a",
   "metadata": {},
   "source": [
    "# Question 7"
   ]
  },
  {
   "cell_type": "code",
   "execution_count": null,
   "id": "12ced1bc",
   "metadata": {},
   "outputs": [],
   "source": []
  },
  {
   "cell_type": "code",
   "execution_count": 84,
   "id": "1fd43be9",
   "metadata": {},
   "outputs": [],
   "source": [
    "from urllib.request import urlopen\n",
    "from urllib.parse import urljoin\n",
    "from bs4 import BeautifulSoup\n",
    "\n",
    "def webdir(url, depth, indent):\n",
    "    print(' '*indent + url)\n",
    "    if depth == 0:\n",
    "        return\n",
    "    try:\n",
    "        page = urlopen(url)\n",
    "    except:\n",
    "        return\n",
    "    soup = BeautifulSoup(page, 'html.parser')\n",
    "    links = soup.findAll('a')\n",
    "    for link in links:\n",
    "        href = link.get('href')\n",
    "        if href.startswith('http'):\n",
    "            webdir(href, depth-1, indent+4)\n",
    "        else:\n",
    "            webdir(urljoin(url, href), depth-1, indent+4)"
   ]
  },
  {
   "cell_type": "code",
   "execution_count": 85,
   "id": "2e83365d",
   "metadata": {},
   "outputs": [
    {
     "name": "stdout",
     "output_type": "stream",
     "text": [
      "http://reed.cs.depaul.edu/lperkovic/csc242/test1.html\n"
     ]
    }
   ],
   "source": [
    "webdir('http://reed.cs.depaul.edu/lperkovic/csc242/test1.html', 2, 0)"
   ]
  },
  {
   "cell_type": "code",
   "execution_count": null,
   "id": "82858020",
   "metadata": {},
   "outputs": [],
   "source": []
  },
  {
   "cell_type": "markdown",
   "id": "19e7ad55",
   "metadata": {},
   "source": [
    "# Question 8"
   ]
  },
  {
   "cell_type": "raw",
   "id": "a80a37ab",
   "metadata": {},
   "source": [
    "**Write SQL queries on the below database table that return:\n",
    "a) All the temperature data.\n",
    "b) All the cities, but without repetition.\n",
    "c) All the records for India.\n",
    "d) All the Fall records.\n",
    "e) The city, country, and season for which the average rainfall is between 200\n",
    "and 400 millimeters.\n",
    "f) The city and country for which the average Fall temperature is above 20\n",
    "degrees, in increasing temperature order.\n",
    "g) The total annual rainfall for Cairo.\n",
    "h) The total rainfall for each season.**\n"
   ]
  },
  {
   "cell_type": "raw",
   "id": "19773337",
   "metadata": {},
   "source": [
    "City Country Season Temperature(C)Rainfall(mm)\n",
    "Mumbai India Winter 24.8 5.9\n",
    "Mumbai India Spring 28.4 16.2\n",
    "Mumbai India Summer 27.9 1549.4\n",
    "Mumbai India Fall 27.6 346.0\n",
    "London United Kingdom Winter 4.2 207.7\n",
    "London United Kingdom Spring 8.3 169.6\n",
    "London United Kingdom Summer 15.7 157.0\n",
    "London United Kingdom Fall 10.4 218.5\n",
    "Cairo Egypt Winter 13.6 16.5\n",
    "Cairo Egypt Spring 20.7 6.5\n",
    "Cairo Egypt Summer 27.7 0.1\n",
    "Cairo Egypt Fall 22.2 4.5"
   ]
  },
  {
   "cell_type": "markdown",
   "id": "dc36868f",
   "metadata": {},
   "source": [
    "*SQL Query:*"
   ]
  },
  {
   "cell_type": "code",
   "execution_count": null,
   "id": "ddfd42c4",
   "metadata": {},
   "outputs": [],
   "source": [
    "a) SELECT Temperature FROM table_name;\n",
    "\n",
    "b) SELECT DISTINCT City FROM table_name;\n",
    "\n",
    "c) SELECT * FROM table_name WHERE Country='India';\n",
    "\n",
    "d) SELECT * FROM table_name WHERE Season='Fall';\n",
    "\n",
    "e) SELECT City, Country, Season FROM table_name WHERE Rainfall BETWEEN 200 AND 400;\n",
    "\n",
    "f) SELECT City, Country FROM table_name WHERE Season='Fall' AND Temperature > 20 ORDER BY Temperature ASC;\n",
    "\n",
    "g) SELECT SUM(Rainfall) AS \"Total Rainfall\" FROM table_name WHERE City='Cairo';\n",
    "\n",
    "h) SELECT Season, SUM(Rainfall) AS \"Total Rainfall\" FROM table_name GROUP BY Season;"
   ]
  },
  {
   "cell_type": "code",
   "execution_count": null,
   "id": "7d9899a9",
   "metadata": {},
   "outputs": [],
   "source": []
  },
  {
   "cell_type": "markdown",
   "id": "433632fd",
   "metadata": {},
   "source": [
    "# Question 9"
   ]
  },
  {
   "cell_type": "raw",
   "id": "18b35b1f",
   "metadata": {},
   "source": [
    "** Suppose list words is defined as follows:\n",
    ">>> words = ['The', 'quick', 'brown', 'fox', 'jumps', 'over',\n",
    "'the', 'lazy', 'dog']\n",
    "Write list comprehension expressions that use list words and generate the following\n",
    "lists:\n",
    "a) ['THE', 'QUICK', 'BROWN', 'FOX', 'JUMPS', 'OVER', 'THE',\n",
    "'LAZY', 'DOG']\n",
    "b) ['the', 'quick', 'brown', 'fox', 'jumps', 'over', 'the',\n",
    "'lazy', 'dog']\n",
    "c) [3, 5, 5, 3, 5, 4, 3, 4, 3] (the list of lengths of words in list\n",
    "words).\n",
    "d) [['THE', 'the', 3], ['QUICK', 'quick', 5], ['BROWN',\n",
    "'brown', 5], ['FOX', 'fox', 3], ['JUMPS', 'jumps', 5],\n",
    "['OVER', 'over', 4], ['THE', 'the', 3], ['LAZY', 'lazy',\n",
    "4], ['DOG', 'dog', 3]] (the list containing a list for every word of list\n",
    "words, where each list contains the word in uppercase and lowercase and the\n",
    "length of the word.)\n",
    "e) ['The', 'quick', 'brown', 'fox', 'jumps', 'over', 'the',\n",
    "'lazy', 'dog'] (the list of words in list words containing 4 or more\n",
    "characters.)**"
   ]
  },
  {
   "cell_type": "markdown",
   "id": "c26af708",
   "metadata": {},
   "source": [
    "**Solution**"
   ]
  },
  {
   "cell_type": "code",
   "execution_count": 58,
   "id": "73c5d359",
   "metadata": {},
   "outputs": [],
   "source": [
    "words = ['The', 'quick', 'brown', 'fox', 'jumps', 'over',\n",
    "'the', 'lazy', 'dog']"
   ]
  },
  {
   "cell_type": "code",
   "execution_count": 60,
   "id": "9fdf725c",
   "metadata": {},
   "outputs": [
    {
     "data": {
      "text/plain": [
       "['THE', 'QUICK', 'BROWN', 'FOX', 'JUMPS', 'OVER', 'THE', 'LAZY', 'DOG']"
      ]
     },
     "execution_count": 60,
     "metadata": {},
     "output_type": "execute_result"
    }
   ],
   "source": [
    "#a) list comprehension to generate list of words in uppercase:\n",
    "uppercase_words = [word.upper() for word in words]\n",
    "uppercase_words"
   ]
  },
  {
   "cell_type": "code",
   "execution_count": 61,
   "id": "72ed0cb1",
   "metadata": {},
   "outputs": [
    {
     "data": {
      "text/plain": [
       "['the', 'quick', 'brown', 'fox', 'jumps', 'over', 'the', 'lazy', 'dog']"
      ]
     },
     "execution_count": 61,
     "metadata": {},
     "output_type": "execute_result"
    }
   ],
   "source": [
    "#b) list comprehension to generate list of words in lowercase:\n",
    "lowercase_words = [word.lower() for word in words]\n",
    "lowercase_words"
   ]
  },
  {
   "cell_type": "code",
   "execution_count": 62,
   "id": "f95768fd",
   "metadata": {},
   "outputs": [
    {
     "data": {
      "text/plain": [
       "[3, 5, 5, 3, 5, 4, 3, 4, 3]"
      ]
     },
     "execution_count": 62,
     "metadata": {},
     "output_type": "execute_result"
    }
   ],
   "source": [
    "#c) list comprehension to generate list of lengths of words:\n",
    "lengths = [len(word) for word in words]\n",
    "lengths"
   ]
  },
  {
   "cell_type": "code",
   "execution_count": 63,
   "id": "926ead71",
   "metadata": {},
   "outputs": [
    {
     "data": {
      "text/plain": [
       "[['THE', 'the', 3],\n",
       " ['QUICK', 'quick', 5],\n",
       " ['BROWN', 'brown', 5],\n",
       " ['FOX', 'fox', 3],\n",
       " ['JUMPS', 'jumps', 5],\n",
       " ['OVER', 'over', 4],\n",
       " ['THE', 'the', 3],\n",
       " ['LAZY', 'lazy', 4],\n",
       " ['DOG', 'dog', 3]]"
      ]
     },
     "execution_count": 63,
     "metadata": {},
     "output_type": "execute_result"
    }
   ],
   "source": [
    "#d) list comprehension to generate a list of lists containing uppercase, lowercase and length of words:\n",
    "word_info = [[word.upper(), word.lower(), len(word)] for word in words]\n",
    "word_info"
   ]
  },
  {
   "cell_type": "code",
   "execution_count": 64,
   "id": "c9ac92f9",
   "metadata": {},
   "outputs": [
    {
     "data": {
      "text/plain": [
       "['quick', 'brown', 'jumps', 'over', 'lazy']"
      ]
     },
     "execution_count": 64,
     "metadata": {},
     "output_type": "execute_result"
    }
   ],
   "source": [
    "#e) list comprehension to generate list of words containing 4 or more characters:\n",
    "long_words = [word for word in words if len(word) >= 4]\n",
    "long_words"
   ]
  },
  {
   "cell_type": "code",
   "execution_count": null,
   "id": "e0dac5ba",
   "metadata": {},
   "outputs": [],
   "source": []
  },
  {
   "cell_type": "code",
   "execution_count": null,
   "id": "3749160c",
   "metadata": {},
   "outputs": [],
   "source": []
  }
 ],
 "metadata": {
  "kernelspec": {
   "display_name": "Python 3 (ipykernel)",
   "language": "python",
   "name": "python3"
  },
  "language_info": {
   "codemirror_mode": {
    "name": "ipython",
    "version": 3
   },
   "file_extension": ".py",
   "mimetype": "text/x-python",
   "name": "python",
   "nbconvert_exporter": "python",
   "pygments_lexer": "ipython3",
   "version": "3.9.13"
  }
 },
 "nbformat": 4,
 "nbformat_minor": 5
}
